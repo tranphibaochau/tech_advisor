{
 "cells": [
  {
   "cell_type": "code",
   "execution_count": 4,
   "id": "initial_id",
   "metadata": {
    "collapsed": true,
    "ExecuteTime": {
     "end_time": "2023-09-29T04:45:16.542243800Z",
     "start_time": "2023-09-29T04:45:15.844643300Z"
    }
   },
   "outputs": [
    {
     "name": "stdout",
     "output_type": "stream",
     "text": [
      "Note: you may need to restart the kernel to use updated packages.\n"
     ]
    },
    {
     "name": "stderr",
     "output_type": "stream",
     "text": [
      "WARNING: Ignoring invalid distribution -illow (d:\\git_repos\\tech_advisor\\venv\\lib\\site-packages)\n",
      "ERROR: Could not find a version that satisfies the requirement autotrain (from versions: none)\n",
      "ERROR: No matching distribution found for autotrain\n"
     ]
    }
   ],
   "source": [
    "pip install autotrain"
   ]
  },
  {
   "cell_type": "code",
   "execution_count": 1,
   "outputs": [],
   "source": [
    "from transformers import pipeline"
   ],
   "metadata": {
    "collapsed": false,
    "ExecuteTime": {
     "end_time": "2023-09-29T04:44:46.804628100Z",
     "start_time": "2023-09-29T04:44:44.232643400Z"
    }
   },
   "id": "cb99a4eee06871d1"
  },
  {
   "cell_type": "code",
   "execution_count": 2,
   "outputs": [
    {
     "name": "stdout",
     "output_type": "stream",
     "text": [
      "tensor([[0.5509, 0.8083, 0.1858],\n",
      "        [0.5816, 0.0888, 0.3754],\n",
      "        [0.2809, 0.8829, 0.5518],\n",
      "        [0.5178, 0.2110, 0.4185],\n",
      "        [0.4721, 0.7241, 0.5571]])\n"
     ]
    }
   ],
   "source": [
    "import torch\n",
    "matrix = torch.rand(5, 3)\n",
    "print(matrix)"
   ],
   "metadata": {
    "collapsed": false,
    "ExecuteTime": {
     "end_time": "2023-09-29T04:44:50.686830500Z",
     "start_time": "2023-09-29T04:44:50.673898Z"
    }
   },
   "id": "230da70b76d8b5e5"
  },
  {
   "cell_type": "code",
   "execution_count": null,
   "outputs": [],
   "source": [],
   "metadata": {
    "collapsed": false
   },
   "id": "bca37cfad05f2405"
  }
 ],
 "metadata": {
  "kernelspec": {
   "display_name": "Python 3",
   "language": "python",
   "name": "python3"
  },
  "language_info": {
   "codemirror_mode": {
    "name": "ipython",
    "version": 2
   },
   "file_extension": ".py",
   "mimetype": "text/x-python",
   "name": "python",
   "nbconvert_exporter": "python",
   "pygments_lexer": "ipython2",
   "version": "2.7.6"
  }
 },
 "nbformat": 4,
 "nbformat_minor": 5
}
